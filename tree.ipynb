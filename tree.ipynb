{
 "cells": [
  {
   "cell_type": "code",
   "execution_count": 123,
   "metadata": {},
   "outputs": [],
   "source": [
    "import numpy as np\n",
    "import pandas as pd\n",
    "from graphviz import Digraph"
   ]
  },
  {
   "cell_type": "code",
   "execution_count": 124,
   "metadata": {},
   "outputs": [
    {
     "data": {
      "application/vnd.microsoft.datawrangler.viewer.v0+json": {
       "columns": [
        {
         "name": "index",
         "rawType": "int64",
         "type": "integer"
        },
        {
         "name": "own_position",
         "rawType": "float64",
         "type": "float"
        },
        {
         "name": "opponent_position",
         "rawType": "float64",
         "type": "float"
        },
        {
         "name": "hosting",
         "rawType": "object",
         "type": "string"
        },
        {
         "name": "is_win",
         "rawType": "int64",
         "type": "integer"
        }
       ],
       "conversionMethod": "pd.DataFrame",
       "ref": "85d30f73-583b-498d-8cec-31277f4b2e43",
       "rows": [
        [
         "0",
         null,
         null,
         "Home",
         "0"
        ],
        [
         "1",
         null,
         null,
         "Home",
         "1"
        ],
        [
         "2",
         null,
         null,
         "Home",
         "0"
        ],
        [
         "3",
         "1.0",
         "15.0",
         "Home",
         "1"
        ],
        [
         "4",
         "18.0",
         "11.0",
         "Home",
         "0"
        ],
        [
         "5",
         "13.0",
         "3.0",
         "Home",
         "1"
        ],
        [
         "6",
         "15.0",
         "1.0",
         "Home",
         "0"
        ],
        [
         "7",
         "7.0",
         "6.0",
         "Home",
         "0"
        ],
        [
         "8",
         "14.0",
         "9.0",
         "Home",
         "0"
        ],
        [
         "9",
         "17.0",
         "7.0",
         "Home",
         "0"
        ],
        [
         "10",
         "2.0",
         "6.0",
         "Home",
         "1"
        ],
        [
         "11",
         "4.0",
         "10.0",
         "Home",
         "1"
        ],
        [
         "12",
         "3.0",
         "6.0",
         "Home",
         "0"
        ],
        [
         "13",
         null,
         null,
         "Home",
         "0"
        ],
        [
         "14",
         null,
         null,
         "Home",
         "1"
        ],
        [
         "15",
         null,
         null,
         "Home",
         "1"
        ],
        [
         "16",
         null,
         null,
         "Home",
         "0"
        ],
        [
         "17",
         null,
         null,
         "Home",
         "1"
        ],
        [
         "18",
         "5.0",
         "10.0",
         "Home",
         "0"
        ],
        [
         "19",
         "15.0",
         "3.0",
         "Home",
         "0"
        ],
        [
         "20",
         "16.0",
         "7.0",
         "Home",
         "0"
        ],
        [
         "21",
         null,
         null,
         "Home",
         "0"
        ],
        [
         "22",
         "5.0",
         "8.0",
         "Home",
         "1"
        ],
        [
         "23",
         "15.0",
         "10.0",
         "Home",
         "0"
        ],
        [
         "24",
         "16.0",
         "4.0",
         "Home",
         "0"
        ],
        [
         "25",
         "3.0",
         "15.0",
         "Home",
         "0"
        ],
        [
         "26",
         "14.0",
         "16.0",
         "Home",
         "1"
        ],
        [
         "27",
         "13.0",
         "3.0",
         "Home",
         "0"
        ],
        [
         "28",
         "6.0",
         "8.0",
         "Home",
         "0"
        ],
        [
         "29",
         "16.0",
         "10.0",
         "Home",
         "0"
        ],
        [
         "30",
         "18.0",
         "2.0",
         "Home",
         "0"
        ],
        [
         "31",
         "12.0",
         "13.0",
         "Home",
         "0"
        ],
        [
         "32",
         "15.0",
         "17.0",
         "Home",
         "0"
        ],
        [
         "33",
         "20.0",
         "15.0",
         "Home",
         "1"
        ],
        [
         "34",
         "6.0",
         "12.0",
         "Home",
         "0"
        ],
        [
         "35",
         "8.0",
         "5.0",
         "Home",
         "0"
        ],
        [
         "36",
         "19.0",
         "6.0",
         "Home",
         "0"
        ],
        [
         "37",
         "11.0",
         "1.0",
         "Home",
         "0"
        ],
        [
         "38",
         "19.0",
         "11.0",
         "Home",
         "0"
        ],
        [
         "39",
         "8.0",
         "3.0",
         "Home",
         "0"
        ],
        [
         "40",
         "18.0",
         "5.0",
         "Home",
         "0"
        ],
        [
         "41",
         "2.0",
         "16.0",
         "Home",
         "0"
        ],
        [
         "42",
         "16.0",
         "12.0",
         "Home",
         "0"
        ],
        [
         "43",
         "20.0",
         "2.0",
         "Home",
         "0"
        ],
        [
         "44",
         "15.0",
         "18.0",
         "Home",
         "1"
        ],
        [
         "45",
         "14.0",
         "20.0",
         "Home",
         "1"
        ],
        [
         "46",
         "4.0",
         "9.0",
         "Home",
         "1"
        ],
        [
         "47",
         "9.0",
         "2.0",
         "Home",
         "0"
        ],
        [
         "48",
         "14.0",
         "13.0",
         "Home",
         "1"
        ],
        [
         "49",
         "5.0",
         "1.0",
         "Home",
         "0"
        ]
       ],
       "shape": {
        "columns": 4,
        "rows": 139270
       }
      },
      "text/html": [
       "<div>\n",
       "<style scoped>\n",
       "    .dataframe tbody tr th:only-of-type {\n",
       "        vertical-align: middle;\n",
       "    }\n",
       "\n",
       "    .dataframe tbody tr th {\n",
       "        vertical-align: top;\n",
       "    }\n",
       "\n",
       "    .dataframe thead th {\n",
       "        text-align: right;\n",
       "    }\n",
       "</style>\n",
       "<table border=\"1\" class=\"dataframe\">\n",
       "  <thead>\n",
       "    <tr style=\"text-align: right;\">\n",
       "      <th></th>\n",
       "      <th>own_position</th>\n",
       "      <th>opponent_position</th>\n",
       "      <th>hosting</th>\n",
       "      <th>is_win</th>\n",
       "    </tr>\n",
       "  </thead>\n",
       "  <tbody>\n",
       "    <tr>\n",
       "      <th>0</th>\n",
       "      <td>NaN</td>\n",
       "      <td>NaN</td>\n",
       "      <td>Home</td>\n",
       "      <td>0</td>\n",
       "    </tr>\n",
       "    <tr>\n",
       "      <th>1</th>\n",
       "      <td>NaN</td>\n",
       "      <td>NaN</td>\n",
       "      <td>Home</td>\n",
       "      <td>1</td>\n",
       "    </tr>\n",
       "    <tr>\n",
       "      <th>2</th>\n",
       "      <td>NaN</td>\n",
       "      <td>NaN</td>\n",
       "      <td>Home</td>\n",
       "      <td>0</td>\n",
       "    </tr>\n",
       "    <tr>\n",
       "      <th>3</th>\n",
       "      <td>1.0</td>\n",
       "      <td>15.0</td>\n",
       "      <td>Home</td>\n",
       "      <td>1</td>\n",
       "    </tr>\n",
       "    <tr>\n",
       "      <th>4</th>\n",
       "      <td>18.0</td>\n",
       "      <td>11.0</td>\n",
       "      <td>Home</td>\n",
       "      <td>0</td>\n",
       "    </tr>\n",
       "    <tr>\n",
       "      <th>...</th>\n",
       "      <td>...</td>\n",
       "      <td>...</td>\n",
       "      <td>...</td>\n",
       "      <td>...</td>\n",
       "    </tr>\n",
       "    <tr>\n",
       "      <th>139265</th>\n",
       "      <td>NaN</td>\n",
       "      <td>NaN</td>\n",
       "      <td>Away</td>\n",
       "      <td>1</td>\n",
       "    </tr>\n",
       "    <tr>\n",
       "      <th>139266</th>\n",
       "      <td>8.0</td>\n",
       "      <td>16.0</td>\n",
       "      <td>Away</td>\n",
       "      <td>0</td>\n",
       "    </tr>\n",
       "    <tr>\n",
       "      <th>139267</th>\n",
       "      <td>7.0</td>\n",
       "      <td>6.0</td>\n",
       "      <td>Away</td>\n",
       "      <td>0</td>\n",
       "    </tr>\n",
       "    <tr>\n",
       "      <th>139268</th>\n",
       "      <td>NaN</td>\n",
       "      <td>NaN</td>\n",
       "      <td>Away</td>\n",
       "      <td>1</td>\n",
       "    </tr>\n",
       "    <tr>\n",
       "      <th>139269</th>\n",
       "      <td>NaN</td>\n",
       "      <td>NaN</td>\n",
       "      <td>Away</td>\n",
       "      <td>1</td>\n",
       "    </tr>\n",
       "  </tbody>\n",
       "</table>\n",
       "<p>139270 rows × 4 columns</p>\n",
       "</div>"
      ],
      "text/plain": [
       "        own_position  opponent_position hosting  is_win\n",
       "0                NaN                NaN    Home       0\n",
       "1                NaN                NaN    Home       1\n",
       "2                NaN                NaN    Home       0\n",
       "3                1.0               15.0    Home       1\n",
       "4               18.0               11.0    Home       0\n",
       "...              ...                ...     ...     ...\n",
       "139265           NaN                NaN    Away       1\n",
       "139266           8.0               16.0    Away       0\n",
       "139267           7.0                6.0    Away       0\n",
       "139268           NaN                NaN    Away       1\n",
       "139269           NaN                NaN    Away       1\n",
       "\n",
       "[139270 rows x 4 columns]"
      ]
     },
     "execution_count": 124,
     "metadata": {},
     "output_type": "execute_result"
    }
   ],
   "source": [
    "df = pd.read_csv(\"data/transfer_data/club_games.csv\")\n",
    "df = df.drop(columns=['game_id', 'club_id', 'own_manager_name', 'opponent_manager_name', 'opponent_id', 'own_goals', 'opponent_goals'],axis=1)\n",
    "df"
   ]
  },
  {
   "cell_type": "markdown",
   "metadata": {},
   "source": [
    "### Cleaning up data\n",
    "1. Change datatype\n",
    "2. Drop NaN rows\n",
    "3. Remove irrelevant columns to decision tree (ie. manager name, club id)\n"
   ]
  },
  {
   "cell_type": "markdown",
   "metadata": {},
   "source": [
    "#### 1. Change Datatypes\n",
    "- Change data type of 'hosting' column from *object* to *boolean*\n",
    "- Change data type of 'position' column from *float* to *int64*"
   ]
  },
  {
   "cell_type": "code",
   "execution_count": 125,
   "metadata": {},
   "outputs": [],
   "source": [
    "df['hosting'] = df['hosting'].apply(lambda x : 1 if x == \"Home\" else 0).astype('Int64')\n",
    "# df['is_win'] = df['is_win'].apply(lambda x : True if x == 1 else False).astype(bool)\n",
    "df['opponent_position'] = df['opponent_position'].astype('Int64')\n",
    "df['own_position'] = df['own_position'].astype('Int64')"
   ]
  },
  {
   "cell_type": "markdown",
   "metadata": {},
   "source": [
    "Drop rows with any NaN values"
   ]
  },
  {
   "cell_type": "code",
   "execution_count": 126,
   "metadata": {},
   "outputs": [
    {
     "data": {
      "text/plain": [
       "own_position         Int64\n",
       "opponent_position    Int64\n",
       "hosting              Int64\n",
       "is_win               int64\n",
       "dtype: object"
      ]
     },
     "execution_count": 126,
     "metadata": {},
     "output_type": "execute_result"
    }
   ],
   "source": [
    "df = df.dropna()\n",
    "df.dtypes"
   ]
  },
  {
   "cell_type": "markdown",
   "metadata": {},
   "source": [
    "Now, remove irrelevant columns, like manager name, and clubid\n",
    "We removed goals data as well, because uhm it is pretty obvious to compare with goals."
   ]
  },
  {
   "cell_type": "code",
   "execution_count": 127,
   "metadata": {},
   "outputs": [
    {
     "data": {
      "application/vnd.microsoft.datawrangler.viewer.v0+json": {
       "columns": [
        {
         "name": "index",
         "rawType": "int64",
         "type": "integer"
        },
        {
         "name": "own_position",
         "rawType": "Int64",
         "type": "integer"
        },
        {
         "name": "opponent_position",
         "rawType": "Int64",
         "type": "integer"
        },
        {
         "name": "hosting",
         "rawType": "Int64",
         "type": "integer"
        },
        {
         "name": "is_win",
         "rawType": "int64",
         "type": "integer"
        }
       ],
       "conversionMethod": "pd.DataFrame",
       "ref": "c384d13f-f405-433d-a986-ba6e8eccc51b",
       "rows": [
        [
         "3",
         "1",
         "15",
         "1",
         "1"
        ],
        [
         "4",
         "18",
         "11",
         "1",
         "0"
        ],
        [
         "5",
         "13",
         "3",
         "1",
         "1"
        ],
        [
         "6",
         "15",
         "1",
         "1",
         "0"
        ],
        [
         "7",
         "7",
         "6",
         "1",
         "0"
        ],
        [
         "8",
         "14",
         "9",
         "1",
         "0"
        ],
        [
         "9",
         "17",
         "7",
         "1",
         "0"
        ],
        [
         "10",
         "2",
         "6",
         "1",
         "1"
        ],
        [
         "11",
         "4",
         "10",
         "1",
         "1"
        ],
        [
         "12",
         "3",
         "6",
         "1",
         "0"
        ],
        [
         "18",
         "5",
         "10",
         "1",
         "0"
        ],
        [
         "19",
         "15",
         "3",
         "1",
         "0"
        ],
        [
         "20",
         "16",
         "7",
         "1",
         "0"
        ],
        [
         "22",
         "5",
         "8",
         "1",
         "1"
        ],
        [
         "23",
         "15",
         "10",
         "1",
         "0"
        ],
        [
         "24",
         "16",
         "4",
         "1",
         "0"
        ],
        [
         "25",
         "3",
         "15",
         "1",
         "0"
        ],
        [
         "26",
         "14",
         "16",
         "1",
         "1"
        ],
        [
         "27",
         "13",
         "3",
         "1",
         "0"
        ],
        [
         "28",
         "6",
         "8",
         "1",
         "0"
        ],
        [
         "29",
         "16",
         "10",
         "1",
         "0"
        ],
        [
         "30",
         "18",
         "2",
         "1",
         "0"
        ],
        [
         "31",
         "12",
         "13",
         "1",
         "0"
        ],
        [
         "32",
         "15",
         "17",
         "1",
         "0"
        ],
        [
         "33",
         "20",
         "15",
         "1",
         "1"
        ],
        [
         "34",
         "6",
         "12",
         "1",
         "0"
        ],
        [
         "35",
         "8",
         "5",
         "1",
         "0"
        ],
        [
         "36",
         "19",
         "6",
         "1",
         "0"
        ],
        [
         "37",
         "11",
         "1",
         "1",
         "0"
        ],
        [
         "38",
         "19",
         "11",
         "1",
         "0"
        ],
        [
         "39",
         "8",
         "3",
         "1",
         "0"
        ],
        [
         "40",
         "18",
         "5",
         "1",
         "0"
        ],
        [
         "41",
         "2",
         "16",
         "1",
         "0"
        ],
        [
         "42",
         "16",
         "12",
         "1",
         "0"
        ],
        [
         "43",
         "20",
         "2",
         "1",
         "0"
        ],
        [
         "44",
         "15",
         "18",
         "1",
         "1"
        ],
        [
         "45",
         "14",
         "20",
         "1",
         "1"
        ],
        [
         "46",
         "4",
         "9",
         "1",
         "1"
        ],
        [
         "47",
         "9",
         "2",
         "1",
         "0"
        ],
        [
         "48",
         "14",
         "13",
         "1",
         "1"
        ],
        [
         "49",
         "5",
         "1",
         "1",
         "0"
        ],
        [
         "50",
         "15",
         "8",
         "1",
         "0"
        ],
        [
         "51",
         "8",
         "20",
         "1",
         "0"
        ],
        [
         "52",
         "1",
         "8",
         "1",
         "1"
        ],
        [
         "53",
         "8",
         "2",
         "1",
         "0"
        ],
        [
         "54",
         "3",
         "9",
         "1",
         "1"
        ],
        [
         "55",
         "12",
         "10",
         "1",
         "0"
        ],
        [
         "56",
         "5",
         "3",
         "1",
         "0"
        ],
        [
         "57",
         "9",
         "3",
         "1",
         "0"
        ],
        [
         "58",
         "8",
         "7",
         "1",
         "0"
        ]
       ],
       "shape": {
        "columns": 4,
        "rows": 97726
       }
      },
      "text/html": [
       "<div>\n",
       "<style scoped>\n",
       "    .dataframe tbody tr th:only-of-type {\n",
       "        vertical-align: middle;\n",
       "    }\n",
       "\n",
       "    .dataframe tbody tr th {\n",
       "        vertical-align: top;\n",
       "    }\n",
       "\n",
       "    .dataframe thead th {\n",
       "        text-align: right;\n",
       "    }\n",
       "</style>\n",
       "<table border=\"1\" class=\"dataframe\">\n",
       "  <thead>\n",
       "    <tr style=\"text-align: right;\">\n",
       "      <th></th>\n",
       "      <th>own_position</th>\n",
       "      <th>opponent_position</th>\n",
       "      <th>hosting</th>\n",
       "      <th>is_win</th>\n",
       "    </tr>\n",
       "  </thead>\n",
       "  <tbody>\n",
       "    <tr>\n",
       "      <th>3</th>\n",
       "      <td>1</td>\n",
       "      <td>15</td>\n",
       "      <td>1</td>\n",
       "      <td>1</td>\n",
       "    </tr>\n",
       "    <tr>\n",
       "      <th>4</th>\n",
       "      <td>18</td>\n",
       "      <td>11</td>\n",
       "      <td>1</td>\n",
       "      <td>0</td>\n",
       "    </tr>\n",
       "    <tr>\n",
       "      <th>5</th>\n",
       "      <td>13</td>\n",
       "      <td>3</td>\n",
       "      <td>1</td>\n",
       "      <td>1</td>\n",
       "    </tr>\n",
       "    <tr>\n",
       "      <th>6</th>\n",
       "      <td>15</td>\n",
       "      <td>1</td>\n",
       "      <td>1</td>\n",
       "      <td>0</td>\n",
       "    </tr>\n",
       "    <tr>\n",
       "      <th>7</th>\n",
       "      <td>7</td>\n",
       "      <td>6</td>\n",
       "      <td>1</td>\n",
       "      <td>0</td>\n",
       "    </tr>\n",
       "    <tr>\n",
       "      <th>...</th>\n",
       "      <td>...</td>\n",
       "      <td>...</td>\n",
       "      <td>...</td>\n",
       "      <td>...</td>\n",
       "    </tr>\n",
       "    <tr>\n",
       "      <th>139248</th>\n",
       "      <td>18</td>\n",
       "      <td>8</td>\n",
       "      <td>0</td>\n",
       "      <td>0</td>\n",
       "    </tr>\n",
       "    <tr>\n",
       "      <th>139249</th>\n",
       "      <td>16</td>\n",
       "      <td>3</td>\n",
       "      <td>0</td>\n",
       "      <td>0</td>\n",
       "    </tr>\n",
       "    <tr>\n",
       "      <th>139250</th>\n",
       "      <td>17</td>\n",
       "      <td>9</td>\n",
       "      <td>0</td>\n",
       "      <td>0</td>\n",
       "    </tr>\n",
       "    <tr>\n",
       "      <th>139266</th>\n",
       "      <td>8</td>\n",
       "      <td>16</td>\n",
       "      <td>0</td>\n",
       "      <td>0</td>\n",
       "    </tr>\n",
       "    <tr>\n",
       "      <th>139267</th>\n",
       "      <td>7</td>\n",
       "      <td>6</td>\n",
       "      <td>0</td>\n",
       "      <td>0</td>\n",
       "    </tr>\n",
       "  </tbody>\n",
       "</table>\n",
       "<p>97726 rows × 4 columns</p>\n",
       "</div>"
      ],
      "text/plain": [
       "        own_position  opponent_position  hosting  is_win\n",
       "3                  1                 15        1       1\n",
       "4                 18                 11        1       0\n",
       "5                 13                  3        1       1\n",
       "6                 15                  1        1       0\n",
       "7                  7                  6        1       0\n",
       "...              ...                ...      ...     ...\n",
       "139248            18                  8        0       0\n",
       "139249            16                  3        0       0\n",
       "139250            17                  9        0       0\n",
       "139266             8                 16        0       0\n",
       "139267             7                  6        0       0\n",
       "\n",
       "[97726 rows x 4 columns]"
      ]
     },
     "execution_count": 127,
     "metadata": {},
     "output_type": "execute_result"
    }
   ],
   "source": [
    "df"
   ]
  },
  {
   "cell_type": "markdown",
   "metadata": {},
   "source": [
    "## Node Class"
   ]
  },
  {
   "cell_type": "code",
   "execution_count": 128,
   "metadata": {},
   "outputs": [],
   "source": [
    "class Node():\n",
    "    def __init__(self, feature_index=None, threshold=None, left=None, right=None, info_gain=None, value=None):\n",
    "        \"\"\"Constructor for a single node\n",
    "\n",
    "\t\tArgs:\n",
    "\t\t\tfeature_index (_type_, optional): _description_. Defaults to None.\n",
    "\t\t\tthreshold (_type_, optional): _description_. Defaults to None.\n",
    "\t\t\tleft (_type_, optional): _description_. Defaults to None.\n",
    "\t\t\tright (_type_, optional): _description_. Defaults to None.\n",
    "\t\t\tinfo_gain (_type_, optional): _description_. Defaults to None.\n",
    "\t\t\tvalue (_type_, optional): _description_. Defaults to None.\n",
    "\t\t\"\"\"\n",
    "        # For Decision Nodes\n",
    "        self.feature_index = feature_index\n",
    "        self.threshold = threshold\n",
    "        self.left = left\n",
    "        self.right = right\n",
    "        self.info_gain = info_gain\n",
    "        \n",
    "        # For Leaf Nodes\n",
    "        self.value = value\n",
    "        \n"
   ]
  },
  {
   "cell_type": "code",
   "execution_count": 129,
   "metadata": {},
   "outputs": [],
   "source": [
    "from collections import Counter\n",
    "import sys\n",
    "\n",
    "\n",
    "class DecisionTreeClassifier():\n",
    "    def __init__(self, min_samples_split=2, max_depth=2):\n",
    "        # Init the root of the tree\n",
    "        self.root = None\n",
    "        \n",
    "        # Stop Condition\n",
    "        self.min_samples_split = min_samples_split\n",
    "        self.max_depth = max_depth\n",
    "        \n",
    "    def build_tree(self, dataset, curr_depth=0):\n",
    "        \"\"\"Recursively build a decision tree\n",
    "\n",
    "        Args:\n",
    "            dataset (_type_): _description_\n",
    "            curr_depth (int, optional): _description_. Defaults to 0.\n",
    "        \"\"\"\n",
    "        \n",
    "        # Split features and targets\n",
    "        X, Y = dataset[:, :-1], dataset[:,:-1]\n",
    "        \n",
    "        # Extract num samples, num features\n",
    "        num_samples , num_features = np.shape(X)\n",
    "        \n",
    "        # Split til stopping condition\n",
    "        if num_samples >= self.min_samples_split and curr_depth <= self.max_depth:\n",
    "            # Find best split\n",
    "            best_split = self.get_best_split(dataset, num_samples, num_features)\n",
    "            # Check if info gain is pos.\n",
    "            # Because info gain < 0 means we are splitting a pure node (Node consisting of only one class...)\n",
    "            # Alr ideal node\n",
    "\n",
    "            if best_split and best_split.get('info_gain', -1) > 0:\n",
    "                # recur left\n",
    "                left_subtree = self.build_tree(best_split['dataset_left'], curr_depth + 1)\n",
    "                # recur right\n",
    "                right_subtree = self.build_tree(best_split['dataset_right'], curr_depth + 1)\n",
    "                # Return decision node\n",
    "                return Node(best_split[\"feature_index\"], best_split[\"threshold\"], left_subtree, right_subtree, best_split[\"info_gain\"])\n",
    "            # except KeyError as e:\n",
    "            #     print(f\"Error occurred at depth {curr_depth}: {e}\")\n",
    "            #     print(\"Dataset shape at error:\", dataset.shape)\n",
    "            #     print(\"best_split (causing error):\", best_split)\n",
    "            #     self.get_best_split_debug(dataset, num_samples, num_features)\n",
    "            #     sys.exit()\n",
    "        # Stopping condition met\n",
    "        # Compute Leaf Node\n",
    "        leaf_value = self.calculate_leaf_value(Y)\n",
    "        # Return leaf node\n",
    "        return Node(value=leaf_value)\n",
    "    \n",
    "    def get_best_split_debug(self, dataset, num_samples, num_features):\n",
    "        best_split = {}\n",
    "        max_info_gain = -float(\"inf\")\n",
    "\n",
    "        print(f\"[DEBUG] Num Featrues: {num_features}\")\n",
    "        for feature_index in range(num_features):\n",
    "            feature_values = dataset[:, feature_index]\n",
    "            # print(f\"[DEBUG] Feature_values: {feature_values}\")\n",
    "            possible_thresholds = np.unique(feature_values)\n",
    "            for threshold in possible_thresholds:\n",
    "                print(f\"[DEBUG] Dataset: {dataset}\")\n",
    "                dataset_left, dataset_right = self.split(dataset, feature_index, threshold)\n",
    "\n",
    "                print(f\"[DEBUG] Feature_index: {feature_index}, Threshold: {threshold}\")\n",
    "                print(f\"[DEBUG] dataset_left shape: {dataset_left.shape}, dataset_right shape: {dataset_right.shape}\")\n",
    "\n",
    "                if len(dataset_left) > 0 and len(dataset_right) > 0:\n",
    "                    y, left_y, right_y = dataset[:, -1], dataset_left[:, -1], dataset_right[:, -1]\n",
    "                    curr_info_gain = self.information_gain(y, left_y, right_y, \"gini\")\n",
    "\n",
    "                    print(f\"[DEBUG] curr_info_gain: {curr_info_gain}\")\n",
    "\n",
    "                    if curr_info_gain > max_info_gain:\n",
    "                        best_split = {\n",
    "                            \"feature_index\": feature_index,\n",
    "                            \"threshold\": threshold,\n",
    "                            \"dataset_left\": dataset_left,\n",
    "                            \"dataset_right\": dataset_right,\n",
    "                            \"info_gain\": curr_info_gain\n",
    "                        }\n",
    "                        max_info_gain = curr_info_gain\n",
    "                else:\n",
    "                    print(f\"[DEBUG] Left dataset: {len(dataset_left)}, Right dataset: {len(dataset_right)}\")\n",
    "\n",
    "        print(f\"[DEBUG] Final best_split result: {best_split}\")\n",
    "        return best_split if best_split else {}\n",
    "\n",
    "    def get_best_split(self, dataset, num_samples, num_features):\n",
    "        \"\"\"Function to find the best split\n",
    "\n",
    "        Args:\n",
    "            dataset (_type_): _description_\n",
    "            num_samples (_type_): _description_\n",
    "            num_features (_type_): _description_\n",
    "        \"\"\"\n",
    "        \n",
    "        # Dictionary to store the best split\n",
    "        best_split = {}\n",
    "        max_info_gain = -float(\"inf\")\n",
    "        \n",
    "        # Iterate over all features\n",
    "        for feature_index in range(num_features):\n",
    "            feature_values = dataset[:, feature_index]\n",
    "            # Use unique to remove duplicate feature values and only iterate over unique feature values\n",
    "            possible_thresholds = np.unique(feature_values)\n",
    "            for threshold in possible_thresholds:\n",
    "                # Iterate over all possible thresholds\n",
    "                # Get current split\n",
    "                dataset_left , dataset_right = self.split(dataset, feature_index, threshold)\n",
    "                # Check if childs are not null (Check for empty child nodes)\n",
    "                if len(dataset_left) > 0 and len(dataset_right) > 0:\n",
    "                    # Extract only target values from datasets\n",
    "                    y, left_y, right_y = dataset[:, -1], dataset_left[:, -1], dataset_right[:, -1]\n",
    "                    # Compute information gain\n",
    "                    curr_info_gain = self.information_gain(y, left_y, right_y, \"gini\")\n",
    "                    # Update the best split if needed\n",
    "                    if curr_info_gain > max_info_gain:\n",
    "                        best_split[\"feature_index\"] = feature_index\n",
    "                        best_split[\"threshold\"] = threshold\n",
    "                        best_split[\"dataset_left\"] = dataset_left\n",
    "                        best_split[\"dataset_right\"] = dataset_right\n",
    "                        best_split[\"info_gain\"] = curr_info_gain\n",
    "                        max_info_gain = curr_info_gain\n",
    "        \n",
    "        # Return best split\n",
    "        return best_split\n",
    "    \n",
    "    def split(self, dataset, feature_index, threshold):\n",
    "        \"\"\"Function to split the data based on feature_index and threshold\n",
    "\n",
    "        Args:\n",
    "            dataset (_type_): _description_\n",
    "            feature_index (_type_): _description_\n",
    "            threshold (_type_): _description_\n",
    "        \"\"\"\n",
    "        # Left Child\n",
    "        dataset_left = np.array([row for row in dataset if row[feature_index] <= threshold])\n",
    "        # Right Child\n",
    "        dataset_right = np.array([row for row in dataset if row[feature_index] > threshold])\n",
    "        \n",
    "        return dataset_left, dataset_right\n",
    "    \n",
    "    def information_gain(self, parent, left_child, right_child, mode=\"entropy\"):\n",
    "        \"\"\"Function to calculate information gain\n",
    "\n",
    "        Args:\n",
    "            parent (_type_): _description_\n",
    "            left_child (_type_): _description_\n",
    "            right_child (_type_): _description_\n",
    "            mode (str, optional): _description_. Defaults to \"entropy\".\n",
    "        \"\"\"\n",
    "        # Weight = Relative size of a child compared to parent\n",
    "        left_weight = len(left_child) / len(parent)\n",
    "        right_weight = len(right_child) / len(parent)\n",
    "        \n",
    "        if mode==\"gini\":\n",
    "            gain = self.gini_index(parent) - (left_weight * self.gini_index(left_child) + right_weight * self.gini_index(right_child))\n",
    "        else:\n",
    "            gain = self.entropy(parent) - (left_weight * self.entropy(left_child) + right_weight * self.entropy(right_child))\n",
    "            \n",
    "        return gain\n",
    "    \n",
    "    def entropy(self, y):\n",
    "        \"\"\"Function to compute Entropy of our dataset Y\n",
    "\n",
    "        Args:\n",
    "            y (_type_): _description_\n",
    "        \"\"\"\n",
    "        class_labels = np.unique(y)\n",
    "        entropy = 0\n",
    "        for cls in class_labels:\n",
    "            p_cls = len(y[y==cls]) / len(y)\n",
    "            entropy += -1 * p_cls * np.log2(p_cls)\n",
    "        \n",
    "        return entropy\n",
    "\n",
    "    def gini_index(self, y):\n",
    "        \"\"\"Function to calculate Gini Index\n",
    "\n",
    "        Args:\n",
    "            y (_type_): _description_\n",
    "        \"\"\"\n",
    "        class_labels = np.unique(y)\n",
    "        gini = 0\n",
    "        for cls in class_labels:\n",
    "            p_cls = len(y[y==cls]) / len(y)\n",
    "            gini += p_cls ** 2\n",
    "        \n",
    "        return 1 - gini\n",
    "        \n",
    "    def calculate_leaf_value(self, Y):\n",
    "        \"\"\"Function to compute leaf node\n",
    "\n",
    "        Args:\n",
    "            Y (_type_): _description_\n",
    "        \"\"\"\n",
    "        # Majority class in the node (Return most occuring class in Y)\n",
    "        # Y = list(Y)\n",
    "        # Flatten it\n",
    "        Y = np.asarray(Y).flatten()\n",
    "        Y = [int(y) for y in Y]\n",
    "        # Handles when Y = boolean value list\n",
    "        counts = Counter(Y)\n",
    "        return counts.most_common(1)[0][0]\n",
    "        # A=[0, 1]\n",
    "        # if all(y in (0, 1) for y in Y):\n",
    "        #     print(\"All \")\n",
    "        #     counts = Counter(Y)\n",
    "        #     if counts[0] >= counts[1]:\n",
    "        #         return 0\n",
    "        #     else:\n",
    "        #         return 1\n",
    "        # return max(set(Y), key=Y.count)\n",
    "        # return max(Y, key=Y.count)\n",
    "    \n",
    "    def print_tree(self, tree=None, indent=\" \"):\n",
    "        \"\"\"Function to print out the decision tree\n",
    "\n",
    "        Args:\n",
    "            tree (_type_, optional): _description_. Defaults to None.\n",
    "            indent (str, optional): _description_. Defaults to \" \".\n",
    "        \"\"\"\n",
    "        if not tree:\n",
    "            tree = self.root\n",
    "        \n",
    "        if tree.value is not None:\n",
    "            print(tree.value)\n",
    "        else:\n",
    "            print(\"X_\" + str(tree.feature_index), \"<=\", tree.threshold, \"?\", tree.info_gain) \n",
    "            print(\"%sleft:\" % (indent), end=\"\")\n",
    "            self.print_tree(tree.left, indent + indent)\n",
    "            print(\"%sright:\" % (indent), end=\"\")\n",
    "            self.print_tree(tree.right, indent + indent)\n",
    "            \n",
    "    def fit(self, X, Y):\n",
    "        \"\"\"Funtion to train the tree\n",
    "\n",
    "        Args:\n",
    "            X (_type_): _description_\n",
    "            Y (_type_): _description_\n",
    "        \"\"\"\n",
    "        dataset = np.concatenate((X,Y), axis=1)\n",
    "        self.root = self.build_tree(dataset)\n",
    "        \n",
    "    def predict(self, X):\n",
    "        \"\"\"Function to predict new dataset\n",
    "\n",
    "        Args:\n",
    "            X (_type_): _description_\n",
    "        \"\"\"\n",
    "        predictions = [self.make_prediction(x, self.root) for x in X]\n",
    "        return predictions\n",
    "    \n",
    "    def make_prediction(self, x, tree):\n",
    "        \"\"\"Function to predict a single data point\n",
    "\n",
    "        Args:\n",
    "            x (_type_): _description_\n",
    "            tree (_type_): _description_\n",
    "        \"\"\"\n",
    "        \n",
    "        if tree.value != None:\n",
    "            # If node == Leaf node, return value\n",
    "            return tree.value\n",
    "        # Not a leaf node\n",
    "        # Extract feature value\n",
    "        feature_value = x[tree.feature_index]\n",
    "        if feature_value <= tree.threshold:\n",
    "            return self.make_prediction(x, tree.left)\n",
    "        else:\n",
    "            return self.make_prediction(x, tree.right)\n",
    "        \n",
    "            \n",
    "    \n",
    "\n",
    "    def visualize_tree(self):\n",
    "        def add_nodes_edges(tree, dot=None, node_id=\"0\"):\n",
    "            if dot is None:\n",
    "                dot = Digraph()\n",
    "\n",
    "            if tree.value is not None:\n",
    "                dot.node(node_id, f\"Leaf: {tree.value}\")\n",
    "            else:\n",
    "                label = f\"X_{tree.feature_index} <= {tree.threshold}\\nGain: {tree.info_gain:.4f}\"\n",
    "                dot.node(node_id, label)\n",
    "\n",
    "                left_id = node_id + \"L\"\n",
    "                right_id = node_id + \"R\"\n",
    "                dot.edge(node_id, left_id, \"True\")\n",
    "                dot.edge(node_id, right_id, \"False\")\n",
    "\n",
    "                add_nodes_edges(tree.left, dot, left_id)\n",
    "                add_nodes_edges(tree.right, dot, right_id)\n",
    "\n",
    "            return dot\n",
    "\n",
    "        dot = add_nodes_edges(self.root)\n",
    "        return dot\n"
   ]
  },
  {
   "cell_type": "markdown",
   "metadata": {},
   "source": [
    "## Train Test-Split"
   ]
  },
  {
   "cell_type": "code",
   "execution_count": 130,
   "metadata": {},
   "outputs": [],
   "source": [
    "X = df.iloc[:, :-1].values\n",
    "Y = df.iloc[:, -1].values.reshape(-1, 1)\n",
    "from sklearn.model_selection import train_test_split\n",
    "X_train, X_test, Y_train, Y_test =train_test_split(X, Y, test_size=0.1, random_state=41)"
   ]
  },
  {
   "cell_type": "markdown",
   "metadata": {},
   "source": [
    "### Fit the model"
   ]
  },
  {
   "cell_type": "code",
   "execution_count": 131,
   "metadata": {},
   "outputs": [
    {
     "name": "stdout",
     "output_type": "stream",
     "text": [
      "X_0 <= 6 ? 0.05259420242416424\n",
      " left:X_1 <= 5 ? 0.04194930224898835\n",
      "  left:X_0 <= 2 ? 0.032813572055377827\n",
      "    left:X_1 <= 1 ? 0.020958537249519238\n",
      "        left:1\n",
      "        right:1\n",
      "    right:X_1 <= 3 ? 0.014080237500045278\n",
      "        left:1\n",
      "        right:5\n",
      "  right:X_0 <= 3 ? 0.015212597121268101\n",
      "    left:X_2 <= 0 ? 0.008280697686355754\n",
      "        left:0\n",
      "        right:1\n",
      "    right:X_1 <= 13 ? 0.016083809838096153\n",
      "        left:1\n",
      "        right:1\n",
      " right:X_1 <= 10 ? 0.030840866267370814\n",
      "  left:X_1 <= 4 ? 0.00715349727286918\n",
      "    left:X_2 <= 0 ? 0.0020140136341607884\n",
      "        left:0\n",
      "        right:1\n",
      "    right:X_2 <= 0 ? 0.007619523260896877\n",
      "        left:0\n",
      "        right:1\n",
      "  right:X_0 <= 13 ? 0.01895505778955242\n",
      "    left:X_2 <= 0 ? 0.012823997954626687\n",
      "        left:0\n",
      "        right:1\n",
      "    right:X_1 <= 17 ? 0.013107889893816005\n",
      "        left:0\n",
      "        right:18\n"
     ]
    },
    {
     "data": {
      "text/plain": [
       "'tree.png'"
      ]
     },
     "execution_count": 131,
     "metadata": {},
     "output_type": "execute_result"
    }
   ],
   "source": [
    "# classifier = DecisionTreeClassifier(min_samples_split=20, max_depth=5)\n",
    "classifier = DecisionTreeClassifier(min_samples_split=10, max_depth=3)\n",
    "classifier.fit(X_train, Y_train)\n",
    "classifier.print_tree()\n",
    "classifier.visualize_tree().render(\"tree\", format=\"png\", view=True)\n"
   ]
  },
  {
   "cell_type": "code",
   "execution_count": 132,
   "metadata": {},
   "outputs": [
    {
     "data": {
      "text/plain": [
       "0.5400593471810089"
      ]
     },
     "execution_count": 132,
     "metadata": {},
     "output_type": "execute_result"
    }
   ],
   "source": [
    "Y_pred = classifier.predict(X_test)\n",
    "from sklearn.metrics import accuracy_score\n",
    "accuracy_score(Y_test, Y_pred)"
   ]
  }
 ],
 "metadata": {
  "kernelspec": {
   "display_name": "venv",
   "language": "python",
   "name": "python3"
  },
  "language_info": {
   "codemirror_mode": {
    "name": "ipython",
    "version": 3
   },
   "file_extension": ".py",
   "mimetype": "text/x-python",
   "name": "python",
   "nbconvert_exporter": "python",
   "pygments_lexer": "ipython3",
   "version": "3.13.2"
  }
 },
 "nbformat": 4,
 "nbformat_minor": 2
}
